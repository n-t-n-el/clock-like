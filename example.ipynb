{
 "cells": [
  {
   "cell_type": "code",
   "execution_count": 1,
   "id": "aa01da56-d853-4c61-bf6f-4ac0411ce236",
   "metadata": {},
   "outputs": [],
   "source": [
    "import numpy as np\n",
    "import pandas as pd\n",
    "import matplotlib.pyplot as plt\n",
    "from sklearn.linear_model import LinearRegression, PoissonRegressor"
   ]
  },
  {
   "cell_type": "code",
   "execution_count": 2,
   "id": "f3498d18-ea50-499f-b180-8e1251fa8f77",
   "metadata": {
    "tags": []
   },
   "outputs": [],
   "source": [
    "from inference import "
   ]
  },
  {
   "cell_type": "code",
   "execution_count": 24,
   "id": "428ff33e-2c70-4c02-b484-11f281639480",
   "metadata": {},
   "outputs": [],
   "source": []
  },
  {
   "cell_type": "code",
   "execution_count": 25,
   "id": "dcf1c0fd-f7cc-4418-9ed5-7839861bd2f9",
   "metadata": {},
   "outputs": [],
   "source": [
    "filename = 'data/germline.csv.gz'\n",
    "df = pd.read_csv(filename,low_memory=False)\n",
    "df.dropna(subset=['PhasingProba','MotherAgeAtBirth','FatherAgeAtBirth'],inplace=True)\n",
    "loc =  df.Phase=='father'\n",
    "loc &= df.PhasingProba>0.95\n",
    "df = df.loc[loc]"
   ]
  },
  {
   "cell_type": "code",
   "execution_count": 26,
   "id": "1230deb1-b3cd-4685-8817-2423c238fc9a",
   "metadata": {},
   "outputs": [
    {
     "data": {
      "image/png": "[encoded data removed]",
      "text/plain": [
       "<Figure size 360x360 with 1 Axes>"
      ]
     },
     "metadata": {
      "needs_background": "light"
     },
     "output_type": "display_data"
    }
   ],
   "source": [
    "sampleName ='Proband'\n",
    "ageName = 'FatherAgeAtBirth'\n",
    "df.reset_index(drop=True,inplace=True)\n",
    "xy = df.groupby([sampleName])\n",
    "x = xy.first()[ageName]\n",
    "y = xy.size()\n",
    "\n",
    "id_link = LinearRegression()\n",
    "id_link.fit(x.values.reshape(-1, 1),y)\n",
    "log_link = PoissonRegressor()\n",
    "log_link.fit(x.values.reshape(-1, 1),y)\n",
    "\n",
    "plt.figure(figsize=(5,5))\n",
    "t = np.arange(0,60,1)\n",
    "plt.scatter(x,y)\n",
    "plt.plot(t,id_link.predict(t.reshape(-1, 1)))\n",
    "plt.plot(t,log_link.predict(t.reshape(-1, 1)))\n",
    "plt.ylabel('Number of mutations')\n",
    "plt.xlabel('Age')\n",
    "plt.xlim(xmin=0)\n",
    "plt.ylim(ymin=0)\n",
    "plt.show()"
   ]
  },
  {
   "cell_type": "code",
   "execution_count": 32,
   "id": "56f6817b-a5e1-41cd-a8fe-01b669ae0121",
   "metadata": {},
   "outputs": [],
   "source": [
    "id_attribution = EM_with_clock(df=df,\n",
    "                               cosmic=COSMIC(), \n",
    "                               intercept=id_link.intercept_,\n",
    "                               slope=id_link.coef_[0],\n",
    "                               ageLabel='FatherAgeAtBirth')\n",
    "em = EM(df,COSMIC())\n",
    "em.theta = id_attribution[1]\n",
    "em.plot(first=6,title='Slope (id link)')\n",
    "em.theta = id_attribution[0]\n",
    "em.plot(first=6,title='Intercept (id link)')\n",
    "log_attribution = EM_with_clock(df=df,\n",
    "                                cosmic=COSMIC(), \n",
    "                                intercept=log_link.intercept_,\n",
    "                                slope=log_link.coef_[0],\n",
    "                                link='log',\n",
    "                                ageLabel='FatherAgeAtBirth')\n",
    "em.theta = log_attribution[1]\n",
    "em.plot(first=6,title='Slope (log link)',color='orange')\n",
    "em.theta = log_attribution[0]\n",
    "em.plot(first=6,title='Intercept (log link)',color='orange')"
   ]
  },
  {
   "cell_type": "code",
   "execution_count": null,
   "id": "31a65f12-b54e-41cd-9f93-abbc458a3fb7",
   "metadata": {},
   "outputs": [],
   "source": []
  }
 ],
 "metadata": {
  "kernelspec": {
   "display_name": "HILARy",
   "language": "python",
   "name": "hilary"
  },
  "language_info": {
   "codemirror_mode": {
    "name": "ipython",
    "version": 3
   },
   "file_extension": ".py",
   "mimetype": "text/x-python",
   "name": "python",
   "nbconvert_exporter": "python",
   "pygments_lexer": "ipython3",
   "version": "3.10.6"
  }
 },
 "nbformat": 4,
 "nbformat_minor": 5
}
